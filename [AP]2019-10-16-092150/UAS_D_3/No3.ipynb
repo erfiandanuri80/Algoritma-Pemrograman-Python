{
 "cells": [
  {
   "cell_type": "markdown",
   "metadata": {
    "collapsed": false
   },
   "source": [
    "# No 3\n",
    "\n",
    "Terdapat enam jenis bilangan, yaitu :\n",
    "1. ratusan ribu\n",
    "2. puluhan ribu\n",
    "3. ribuan\n",
    "4. puluhan\n",
    "5. satuan\n",
    "\n",
    "Buatlah sebuah fungsi dengan return value sebuah dictionary yang menyatakan jumlah masing-masing jenis bilangan dari suatu angka, seperti contoh berikut :\n",
    "```\n",
    "angka =905923\n",
    "maka output yang dihasilkan :\n",
    "{'ratusan ribu': 9, 'ribuan': 5, 'ratusan': 9, 'puluhan': 2, 'satuan': 3}\n",
    "\n",
    "angka = 9001\n",
    "maka output yang dihasilkan :\n",
    "{'ribuan': 9, 'satuan': 1}\n",
    "\n",
    "angka = 10\n",
    "maka output yang dihasilkan :\n",
    "{'puluhan': 1}\n",
    "```\n",
    "\n",
    "Buat juga main code untuk memanggil fungsi yang telah dibuat dan menampilkan hasilnya <br>\n",
    "\n",
    "**Waktu = 25 menit**<br>\n",
    "**point:**\n",
    "1. **Error = 0**\n",
    "2. **Tidak error, tetapi output tidak sesuai = 5**\n",
    "3. **Tidak error, dan sesuai =40**\n",
    "4. **Curang = -5**"
   ]
  },
  {
   "cell_type": "code",
   "execution_count": 13,
   "metadata": {
    "cocalc": {
     "outputs": {
      "0": {
       "name": "input",
       "opts": {
        "password": false,
        "prompt": "masukkan= "
       },
       "output_type": "stream",
       "value": "987654"
      }
     }
    },
    "collapsed": false
   },
   "outputs": [
    {
     "name": "stdout",
     "output_type": "stream",
     "text": "masukkan=  987654"
    },
    {
     "name": "stdout",
     "output_type": "stream",
     "text": [
      "{'ribuan': 7, 'satuan': 4, 'ratusan': 6, 'puluhan': 5, 'puluhan ribu': 8, 'ratusan ribu': 9}\n"
     ]
    }
   ],
   "source": [
    "\n",
    "\n",
    "def penamaan(bil):\n",
    "    result={}\n",
    "    while bil>=10:\n",
    "        if bil>=100000:\n",
    "            nilai=bil//100000\n",
    "            bil%=100000\n",
    "            result['ratusan ribu']=nilai\n",
    "        elif bil>=10000:\n",
    "            nilai=bil//10000\n",
    "            bil%=10000\n",
    "            result['puluhan ribu']=nilai\n",
    "        elif bil>=1000:\n",
    "            nilai=bil//1000\n",
    "            bil%=1000\n",
    "            result['ribuan']=nilai\n",
    "        elif bil>=100:\n",
    "            nilai=bil//100\n",
    "            bil%=100\n",
    "            result['ratusan']=nilai\n",
    "        else:\n",
    "            nilai=bil//10\n",
    "            bil%=10\n",
    "            result['puluhan']=nilai\n",
    "    if bil>0:\n",
    "        result['satuan']=bil//1\n",
    "    return result\n",
    "\n",
    "bil=int(input(\"masukkan= \"))\n",
    "display = penamaan(bil)\n",
    "print(display)\n"
   ]
  },
  {
   "cell_type": "code",
   "execution_count": 0,
   "metadata": {
    "collapsed": false
   },
   "outputs": [
   ],
   "source": [
   ]
  }
 ],
 "metadata": {
  "kernelspec": {
   "display_name": "SageMath (stable)",
   "language": "sagemath",
   "name": "sagemath"
  },
  "language_info": {
   "codemirror_mode": {
    "name": "ipython",
    "version": 2
   },
   "file_extension": ".py",
   "mimetype": "text/x-python",
   "name": "python",
   "nbconvert_exporter": "python",
   "pygments_lexer": "ipython2",
   "version": "2.7.15"
  }
 },
 "nbformat": 4,
 "nbformat_minor": 0
}