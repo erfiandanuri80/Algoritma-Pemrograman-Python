{
 "cells": [
  {
   "cell_type": "code",
   "execution_count": 1,
   "metadata": {
    "cocalc": {
     "outputs": {
      "0": {
       "name": "input",
       "opts": {
        "password": false,
        "prompt": "masukkan= "
       },
       "output_type": "stream",
       "value": "987654"
      }
     }
    },
    "collapsed": false
   },
   "outputs": [
    {
     "name": "stdout",
     "output_type": "stream",
     "text": "masukkan=  987654"
    },
    {
     "name": "stdout",
     "output_type": "stream",
     "text": [
      "{'ratusan ribu': 9, 'puluhan ribu': 8, 'puluhan': 5, 'ribuan': 7, 'ratusan': 6, 'satuan': 4}\n"
     ]
    }
   ],
   "source": [
    "\n",
    "\n",
    "def penamaan(bil):\n",
    "    result={}\n",
    "    while bil>=10:\n",
    "        if bil>=100000:\n",
    "            nilai=bil//100000\n",
    "            bil%=100000\n",
    "            result['ratusan ribu']=nilai\n",
    "        elif bil>=10000:\n",
    "            nilai=bil//10000\n",
    "            bil%=10000\n",
    "            result['puluhan ribu']=nilai\n",
    "        elif bil>=1000:\n",
    "            nilai=bil//1000\n",
    "            bil%=1000\n",
    "            result['ribuan']=nilai\n",
    "        elif bil>=100:\n",
    "            nilai=bil//100\n",
    "            bil%=100\n",
    "            result['ratusan']=nilai\n",
    "        else:\n",
    "            nilai=bil//10\n",
    "            bil%=10\n",
    "            result['puluhan']=nilai\n",
    "    if bil>0:\n",
    "        result['satuan']=bil//1\n",
    "    return result\n",
    "\n",
    "bil=int(input(\"masukkan= \"))\n",
    "display = penamaan(bil)\n",
    "print(display)\n"
   ]
  },
  {
   "cell_type": "code",
   "execution_count": 0,
   "metadata": {
    "collapsed": false
   },
   "outputs": [
   ],
   "source": [
   ]
  }
 ],
 "metadata": {
  "kernelspec": {
   "display_name": "Python 3 (old Anaconda 3)",
   "language": "python",
   "name": "anaconda3"
  }
 },
 "nbformat": 4,
 "nbformat_minor": 0
}