{
 "cells": [
  {
   "cell_type": "code",
   "execution_count": 5,
   "metadata": {
    "cocalc": {
     "outputs": {
      "1": {
       "name": "input",
       "opts": {
        "password": false,
        "prompt": "matriks[1,1]="
       },
       "output_type": "stream",
       "value": "1"
      },
      "10": {
       "name": "input",
       "opts": {
        "password": false,
        "prompt": "matriks[1,3]="
       },
       "output_type": "stream",
       "value": "1"
      },
      "11": {
       "name": "input",
       "opts": {
        "password": false,
        "prompt": "matriks[2,1]="
       },
       "output_type": "stream",
       "value": "1"
      },
      "12": {
       "name": "input",
       "opts": {
        "password": false,
        "prompt": "matriks[2,2]="
       },
       "output_type": "stream",
       "value": "1"
      },
      "13": {
       "name": "input",
       "opts": {
        "password": false,
        "prompt": "matriks[2,3]="
       },
       "output_type": "stream",
       "value": "1"
      },
      "15": {
       "name": "input",
       "opts": {
        "password": false,
        "prompt": "matriks[1,1]="
       },
       "output_type": "stream",
       "value": "1"
      },
      "16": {
       "name": "input",
       "opts": {
        "password": false,
        "prompt": "matriks[1,2]="
       },
       "output_type": "stream",
       "value": "1"
      },
      "17": {
       "name": "input",
       "opts": {
        "password": false,
        "prompt": "matriks[2,1]="
       },
       "output_type": "stream",
       "value": "1"
      },
      "18": {
       "name": "input",
       "opts": {
        "password": false,
        "prompt": "matriks[2,2]="
       },
       "output_type": "stream",
       "value": "1"
      },
      "19": {
       "name": "input",
       "opts": {
        "password": false,
        "prompt": "matriks[3,1]="
       },
       "output_type": "stream",
       "value": "1"
      },
      "2": {
       "name": "input",
       "opts": {
        "password": false,
        "prompt": "matriks[1,2]="
       },
       "output_type": "stream",
       "value": "1"
      },
      "20": {
       "name": "input",
       "opts": {
        "password": false,
        "prompt": "matriks[3,2]="
       },
       "output_type": "stream",
       "value": "1"
      },
      "3": {
       "name": "input",
       "opts": {
        "password": false,
        "prompt": "matriks[1,3]="
       },
       "output_type": "stream",
       "value": "1"
      },
      "4": {
       "name": "input",
       "opts": {
        "password": false,
        "prompt": "matriks[2,1]="
       },
       "output_type": "stream",
       "value": "1"
      },
      "5": {
       "name": "input",
       "opts": {
        "password": false,
        "prompt": "matriks[2,2]="
       },
       "output_type": "stream",
       "value": "1"
      },
      "6": {
       "name": "input",
       "opts": {
        "password": false,
        "prompt": "matriks[2,3]="
       },
       "output_type": "stream",
       "value": "1"
      },
      "7": {
       "name": "input",
       "opts": {
        "password": false,
        "prompt": "matriks[1,1]="
       },
       "output_type": "stream"
      },
      "9": {
       "name": "input",
       "opts": {
        "password": false,
        "prompt": "matriks[1,2]="
       },
       "output_type": "stream",
       "value": "1"
      }
     }
    },
    "collapsed": false
   },
   "outputs": [
    {
     "name": "stdout",
     "output_type": "stream",
     "text": [
      "Create Matriks 1\n"
     ]
    },
    {
     "name": "stdout",
     "output_type": "stream",
     "text": "matriks[1,1]= 1"
    },
    {
     "name": "stdout",
     "output_type": "stream",
     "text": "matriks[1,2]= 1"
    },
    {
     "name": "stdout",
     "output_type": "stream",
     "text": "matriks[1,3]= 1"
    },
    {
     "name": "stdout",
     "output_type": "stream",
     "text": "matriks[2,1]= 1"
    },
    {
     "name": "stdout",
     "output_type": "stream",
     "text": "matriks[2,2]= 1"
    },
    {
     "name": "stdout",
     "output_type": "stream",
     "text": "matriks[2,3]= 1"
    },
    {
     "name": "stdout",
     "output_type": "stream",
     "text": "matriks[1,1]= "
    },
    {
     "name": "stdout",
     "output_type": "stream",
     "text": [
      "Create Matriks 2\n"
     ],
     "value": "1"
    },
    {
     "name": "stdout",
     "output_type": "stream",
     "text": "matriks[1,2]= 1"
    },
    {
     "name": "stdout",
     "output_type": "stream",
     "text": "matriks[1,3]= 1"
    },
    {
     "name": "stdout",
     "output_type": "stream",
     "text": "matriks[2,1]= 1"
    },
    {
     "name": "stdout",
     "output_type": "stream",
     "text": "matriks[2,2]= 1"
    },
    {
     "name": "stdout",
     "output_type": "stream",
     "text": "matriks[2,3]= 1"
    },
    {
     "name": "stdout",
     "output_type": "stream",
     "text": [
      "Create Matriks 3\n"
     ]
    },
    {
     "name": "stdout",
     "output_type": "stream",
     "text": "matriks[1,1]= 1"
    },
    {
     "name": "stdout",
     "output_type": "stream",
     "text": "matriks[1,2]= 1"
    },
    {
     "name": "stdout",
     "output_type": "stream",
     "text": "matriks[2,1]= 1"
    },
    {
     "name": "stdout",
     "output_type": "stream",
     "text": "matriks[2,2]= 1"
    },
    {
     "name": "stdout",
     "output_type": "stream",
     "text": "matriks[3,1]= 1"
    },
    {
     "name": "stdout",
     "output_type": "stream",
     "text": "matriks[3,2]= 1"
    },
    {
     "name": "stdout",
     "output_type": "stream",
     "text": [
      "Matriks1=\n",
      "[ 1 1 1 ]\n",
      "[ 1 1 1 ]\n",
      "Matriks2=\n",
      "[ 1 1 1 ]\n",
      "[ 1 1 1 ]\n",
      "Matriks3=\n",
      "[ 1 1 ]\n",
      "[ 1 1 ]\n",
      "[ 1 1 ]\n",
      "ukuran matrik salah\n",
      "ukuran matrik salah\n"
     ]
    }
   ],
   "source": [
    "def createMat2D(baris, kolom):\n",
    "    mat = []\n",
    "    for x in range(baris):\n",
    "        temp = []\n",
    "        for y in range(kolom):\n",
    "            inp = int(input(\"matriks[\"+str(x+1)+\",\"+str(y+1)+\"]=\"))\n",
    "            temp.append(inp)\n",
    "        mat.append(temp)\n",
    "    return mat\n",
    "\n",
    "def addMat(mat1, mat2):\n",
    "    mat = []\n",
    "    if (len(mat1) != len(mat2) or len(mat1[0]) != len(mat2[0])):\n",
    "        return None\n",
    "    for x in range(len(mat1)):\n",
    "        temp = []\n",
    "        for y in range(len(mat1[x])):\n",
    "            temp.append(mat1[x][y] + mat2[x][y])\n",
    "        mat.append(temp)\n",
    "    return mat\n",
    "\n",
    "def multMat(mat1, mat2):\n",
    "    mat = []\n",
    "    if (len(mat1) != len(mat2[0]) or len(mat1[0]) != len(mat2)):\n",
    "        return None\n",
    "    for x in range(len(mat1)):\n",
    "        temp = []\n",
    "        for y in range(len(mat1)):\n",
    "            t = 0\n",
    "            for z in range(len(mat1[0])):\n",
    "                t = t + (mat1[x][z] * mat2[z][y])\n",
    "            temp.append(s)\n",
    "        mat.append(temp)\n",
    "    return mat\n",
    "\n",
    "def dispMat2D(mat, nama):\n",
    "    if (mat == None):\n",
    "        print(\"ukuran matrik salah\")\n",
    "    else:\n",
    "        print(nama)\n",
    "        for x in range(len(mat)):\n",
    "            print(\"[\", end=\"\")\n",
    "            for y in range(len(mat[x])):\n",
    "                data = str(mat[x][y])\n",
    "                print(\" \"*(len(data)) + data, end=\"\")\n",
    "            print(\" ]\")\n",
    "\n",
    "print(\"Create Matriks 1\")\n",
    "matriks1 = createMat2D(2, 3)\n",
    "print(\"Create Matriks 2\")\n",
    "matriks2 = createMat2D(2, 3)\n",
    "print(\"Create Matriks 3\")\n",
    "matriks3 = createMat2D(3, 2)\n",
    "jumlah_matriks = addMat(matriks1, matriks3)\n",
    "kali_matriks = multMat(matriks1, matriks2)\n",
    "dispMat2D(matriks1, \"Matriks1=\")\n",
    "dispMat2D(matriks2, \"Matriks2=\")\n",
    "dispMat2D(matriks3, \"Matriks3=\")\n",
    "dispMat2D(jumlah_matriks, \"Matriks1 + Matriks2=\")\n",
    "dispMat2D(kali_matriks, \"Matriks1 x Matriks3=\")\n"
   ]
  },
  {
   "cell_type": "markdown",
   "metadata": {
    "collapsed": false
   },
   "source": [
    "# "
   ]
  }
 ],
 "metadata": {
  "kernelspec": {
   "display_name": "Python 3 (Anaconda 5)",
   "language": "python",
   "name": "anaconda5"
  }
 },
 "nbformat": 4,
 "nbformat_minor": 0
}