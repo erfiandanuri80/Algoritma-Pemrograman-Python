{
 "cells": [
  {
   "cell_type": "code",
   "execution_count": 3,
   "metadata": {
    "cocalc": {
     "outputs": {
      "0": {
       "name": "input",
       "opts": {
        "password": false,
        "prompt": "kalimat: "
       },
       "output_type": "stream",
       "value": "algorimapemrograman"
      }
     }
    },
    "collapsed": false
   },
   "outputs": [
    {
     "name": "stdout",
     "output_type": "stream",
     "text": "kalimat:  algorimapemrograman"
    },
    {
     "name": "stdout",
     "output_type": "stream",
     "text": [
      "jumlah vokal:  8\n",
      "jumlah konsonan:  11\n",
      "jumlah spasi:  0\n"
     ]
    }
   ],
   "source": [
    "# 2. Buatlah code untuk menghitung jumlah vokal, konsonan, dan spasi, dalam suatu kalimat. Huruf kapital dan huruf kecil, dianggap sama, misalkah 'A' dan 'a' adalah sama. Inputan dari user adalah kalimat yang akan dihitung jumlah vokal, konsonan, dan spasi. #\n",
    "\n",
    "kalimat=input(\"kalimat: \")\n",
    "v=0\n",
    "k=0\n",
    "s=0\n",
    "vokal=(\"a\",\"i\",\"o\",\"e\",\"u\")\n",
    "konsonan=(\"b\",\"c\",\"d\",\"f\",\"g\",\"h\",\"j\",\"k\",\"l\",\"m\",\"n\",\"p\",\"q\",\"r\",\"s\",\"t\",\"v\",\"w\",\"x\",\"y\",\"z\")\n",
    "spasi =(\" \")\n",
    "for i in kalimat:\n",
    "    i=i.lower()\n",
    "    if i in vokal:\n",
    "        v +=1\n",
    "    elif i in konsonan:\n",
    "        k +=1\n",
    "    elif i in spasi:\n",
    "        s +=1\n",
    "print(\"jumlah vokal: \", v)\n",
    "print(\"jumlah konsonan: \", k)\n",
    "print(\"jumlah spasi: \", s)"
   ]
  },
  {
   "cell_type": "code",
   "execution_count": 2,
   "metadata": {
    "cocalc": {
     "outputs": {
      "0": {
       "name": "input",
       "opts": {
        "password": false,
        "prompt": "kalimat : "
       },
       "output_type": "stream",
       "value": "Universitas Trunojoyo Madura"
      },
      "1": {
       "name": "input",
       "opts": {
        "password": false,
        "prompt": "huruf yang dicari: "
       },
       "output_type": "stream",
       "value": "t"
      }
     }
    },
    "collapsed": false
   },
   "outputs": [
    {
     "name": "stdout",
     "output_type": "stream",
     "text": "kalimat :  Universitas Trunojoyo Madura"
    },
    {
     "name": "stdout",
     "output_type": "stream",
     "text": "huruf yang dicari:  t"
    },
    {
     "name": "stdout",
     "output_type": "stream",
     "text": [
      "huruf t ke 1 = 8\n",
      "huruf t ke 2 = 12\n"
     ]
    }
   ],
   "source": [
    "# 4. Buatlah code untuk mencari indeks/offset dari suatu karakter atau huruf pada suatu kalimat yang merupakan inputan dari user. Huruf yang dicari indeksnya juga merupakan inputan dari user. Huruf capital dan dan huruf kecil dianggap sama. #\n",
    "\n",
    "kalimat=input(\"kalimat : \")\n",
    "huruf=input(\"huruf yang dicari: \")\n",
    "total=0\n",
    "for i in range(len(kalimat)):\n",
    "    if kalimat[i].lower()==huruf.lower():\n",
    "        total +=1\n",
    "        print(\"huruf\", huruf, \"ke\", total, \"=\", i)"
   ]
  },
  {
   "cell_type": "code",
   "execution_count": 4,
   "metadata": {
    "cocalc": {
     "outputs": {
      "0": {
       "name": "input",
       "opts": {
        "password": false,
        "prompt": "bilangan pertama: "
       },
       "output_type": "stream",
       "value": "100"
      },
      "1": {
       "name": "input",
       "opts": {
        "password": false,
        "prompt": "bilangan kedua: "
       },
       "output_type": "stream",
       "value": "20"
      }
     }
    },
    "collapsed": false
   },
   "outputs": [
    {
     "name": "stdout",
     "output_type": "stream",
     "text": "bilangan pertama:  100"
    },
    {
     "name": "stdout",
     "output_type": "stream",
     "text": "bilangan kedua:  20"
    },
    {
     "ename": "NameError",
     "evalue": "name 'fpb' is not defined",
     "output_type": "error",
     "traceback": [
      "\u001b[0;31m---------------------------------------------------------------------------\u001b[0m",
      "\u001b[0;31mNameError\u001b[0m                                 Traceback (most recent call last)",
      "\u001b[0;32m<ipython-input-4-043cda98bf66>\u001b[0m in \u001b[0;36m<module>\u001b[0;34m()\u001b[0m\n\u001b[1;32m     14\u001b[0m                 \u001b[0mfpb\u001b[0m\u001b[0;34m=\u001b[0m\u001b[0mn\u001b[0m\u001b[0;34m\u001b[0m\u001b[0m\n\u001b[1;32m     15\u001b[0m                 \u001b[0mprint\u001b[0m\u001b[0;34m(\u001b[0m\u001b[0;34m\"pembagi yang sama ke\"\u001b[0m\u001b[0;34m,\u001b[0m\u001b[0mi\u001b[0m \u001b[0;34m,\u001b[0m\u001b[0;34m\"=\"\u001b[0m\u001b[0;34m,\u001b[0m\u001b[0mfpb\u001b[0m\u001b[0;34m)\u001b[0m\u001b[0;34m\u001b[0m\u001b[0m\n\u001b[0;32m---> 16\u001b[0;31m \u001b[0mprint\u001b[0m\u001b[0;34m(\u001b[0m\u001b[0;34m'Pembagi yang sama yang Terbesar adalah:'\u001b[0m\u001b[0;34m,\u001b[0m\u001b[0mfpb\u001b[0m\u001b[0;34m)\u001b[0m\u001b[0;34m\u001b[0m\u001b[0m\n\u001b[0m",
      "\u001b[0;31mNameError\u001b[0m: name 'fpb' is not defined"
     ]
    }
   ],
   "source": [
    "# 5. Buatlah code untuk menampilkan bilangan-bilangan pembagi yang sama (antara dua buah bilangan, yang merupakan inputan dari user), dan dari bilangan pembagi tersebut, tampilkan bilangan pembagi terbesar. Misalkan terdapat: bilangan pertama 8, maka bilangan pembaginya adalah 1, 2, 4, 8. bilangan kedua 20, maka bilangan pembaginya adalah 1, 2, 4, 5, 10, 20. Dari bilangan-bilangan pembagi tersebut, maka bilangan-bilangan pembagi yang sama adalah : 2, 4. Dan bilangan pembagi terbesar adalah : 4 #\n",
    "\n",
    "x=int(input('bilangan pertama: '))\n",
    "y=int(input('bilangan kedua: '))\n",
    "i=0\n",
    "if x > y:\n",
    "    lebih_kecil = y\n",
    "else:\n",
    "    lebih_kecil = x\n",
    "    for n in range(1, lebih_kecil+1):\n",
    "        if n != 1:\n",
    "            if((x % n == 0) and (y % n == 0)):\n",
    "                i +=1\n",
    "                fpb=n\n",
    "                print(\"pembagi yang sama ke\",i ,\"=\",fpb)\n",
    "print('Pembagi yang sama yang Terbesar adalah:',fpb)"
   ]
  },
  {
   "cell_type": "markdown",
   "metadata": {
    "collapsed": false
   },
   "source": [
    "## "
   ]
  }
 ],
 "metadata": {
  "kernelspec": {
   "display_name": "Python 3 (Anaconda 5)",
   "language": "python",
   "name": "anaconda5"
  },
  "language_info": {
   "codemirror_mode": {
    "name": "ipython",
    "version": 3
   },
   "file_extension": ".py",
   "mimetype": "text/x-python",
   "name": "python",
   "nbconvert_exporter": "python",
   "pygments_lexer": "ipython3",
   "version": "3.6.6"
  }
 },
 "nbformat": 4,
 "nbformat_minor": 0
}