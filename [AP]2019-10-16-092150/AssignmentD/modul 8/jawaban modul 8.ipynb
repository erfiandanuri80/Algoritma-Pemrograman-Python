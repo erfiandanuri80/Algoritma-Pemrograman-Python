{
 "cells": [
  {
   "cell_type": "code",
   "execution_count": 0,
   "metadata": {
    "collapsed": false
   },
   "outputs": [
   ],
   "source": [
   ]
  },
  {
   "cell_type": "code",
   "execution_count": 2,
   "metadata": {
    "cocalc": {
     "outputs": {
      "0": {
       "name": "input",
       "opts": {
        "password": false,
        "prompt": "jumlah baris: "
       },
       "output_type": "stream",
       "value": "3"
      },
      "1": {
       "name": "input",
       "opts": {
        "password": false,
        "prompt": "jumlah kolom: "
       },
       "output_type": "stream",
       "value": "2"
      },
      "10": {
       "name": "input",
       "opts": {
        "password": false,
        "prompt": "jumlah baris: "
       },
       "output_type": "stream",
       "value": "3"
      },
      "11": {
       "name": "input",
       "opts": {
        "password": false,
        "prompt": "jumlah kolom: "
       },
       "output_type": "stream",
       "value": "2"
      },
      "12": {
       "name": "input",
       "opts": {
        "password": false,
        "prompt": "jumla elemen: "
       },
       "output_type": "stream",
       "value": "2"
      },
      "13": {
       "name": "input",
       "opts": {
        "password": false,
        "prompt": "baris ke: ?"
       },
       "output_type": "stream",
       "value": "2"
      },
      "14": {
       "name": "input",
       "opts": {
        "password": false,
        "prompt": "kolom ke: ?"
       },
       "output_type": "stream",
       "value": "1"
      },
      "15": {
       "name": "input",
       "opts": {
        "password": false,
        "prompt": "data[2,1]="
       },
       "output_type": "stream",
       "value": "4"
      },
      "16": {
       "name": "input",
       "opts": {
        "password": false,
        "prompt": "baris ke: ?"
       },
       "output_type": "stream",
       "value": "1"
      },
      "17": {
       "name": "input",
       "opts": {
        "password": false,
        "prompt": "kolom ke: ?"
       },
       "output_type": "stream",
       "value": "1"
      },
      "18": {
       "name": "input",
       "opts": {
        "password": false,
        "prompt": "data[1,1]="
       },
       "output_type": "stream",
       "value": "2"
      },
      "2": {
       "name": "input",
       "opts": {
        "password": false,
        "prompt": "jumla elemen: "
       },
       "output_type": "stream",
       "value": "2"
      },
      "3": {
       "name": "input",
       "opts": {
        "password": false,
        "prompt": "baris ke: ?"
       },
       "output_type": "stream",
       "value": "1"
      },
      "4": {
       "name": "input",
       "opts": {
        "password": false,
        "prompt": "kolom ke: ?"
       },
       "output_type": "stream",
       "value": "1"
      },
      "5": {
       "name": "input",
       "opts": {
        "password": false,
        "prompt": "data[1,1]="
       },
       "output_type": "stream",
       "value": "2"
      },
      "6": {
       "name": "input",
       "opts": {
        "password": false,
        "prompt": "baris ke: ?"
       },
       "output_type": "stream",
       "value": "1"
      },
      "7": {
       "name": "input",
       "opts": {
        "password": false,
        "prompt": "kolom ke: ?"
       },
       "output_type": "stream",
       "value": "0"
      },
      "8": {
       "name": "input",
       "opts": {
        "password": false,
        "prompt": "data[1,0]="
       },
       "output_type": "stream",
       "value": "4"
      }
     }
    },
    "collapsed": false
   },
   "outputs": [
    {
     "name": "stdout",
     "output_type": "stream",
     "text": "jumlah baris:  3"
    },
    {
     "name": "stdout",
     "output_type": "stream",
     "text": "jumlah kolom:  2"
    },
    {
     "name": "stdout",
     "output_type": "stream",
     "text": "jumla elemen:  2"
    },
    {
     "name": "stdout",
     "output_type": "stream",
     "text": "baris ke: ? 1"
    },
    {
     "name": "stdout",
     "output_type": "stream",
     "text": "kolom ke: ? 1"
    },
    {
     "name": "stdout",
     "output_type": "stream",
     "text": "data[1,1]= 2"
    },
    {
     "name": "stdout",
     "output_type": "stream",
     "text": "baris ke: ? 1"
    },
    {
     "name": "stdout",
     "output_type": "stream",
     "text": "kolom ke: ? 0"
    },
    {
     "name": "stdout",
     "output_type": "stream",
     "text": "data[1,0]= 4"
    },
    {
     "name": "stdout",
     "output_type": "stream",
     "text": [
      "matriks1=  {(1, 0): 4, (1, 1): 2}\n",
      "------------------------\n"
     ]
    },
    {
     "name": "stdout",
     "output_type": "stream",
     "text": "jumlah baris:  3"
    },
    {
     "name": "stdout",
     "output_type": "stream",
     "text": "jumlah kolom:  2"
    },
    {
     "name": "stdout",
     "output_type": "stream",
     "text": "jumla elemen:  2"
    },
    {
     "name": "stdout",
     "output_type": "stream",
     "text": "baris ke: ? 2"
    },
    {
     "name": "stdout",
     "output_type": "stream",
     "text": "kolom ke: ? 1"
    },
    {
     "name": "stdout",
     "output_type": "stream",
     "text": "data[2,1]= 4"
    },
    {
     "name": "stdout",
     "output_type": "stream",
     "text": "baris ke: ? 1"
    },
    {
     "name": "stdout",
     "output_type": "stream",
     "text": "kolom ke: ? 1"
    },
    {
     "name": "stdout",
     "output_type": "stream",
     "text": "data[1,1]= 2"
    },
    {
     "name": "stdout",
     "output_type": "stream",
     "text": [
      "matriks2=  {(1, 1): 2, (2, 1): 4}\n",
      "---------------------- \n",
      "|   0   0 |\n",
      "|   4   2 |\n",
      "|   0   0 |\n",
      "------------------\n",
      "|   0   0 |\n",
      "|   0   2 |\n",
      "|   0   4 |\n",
      "------------------\n",
      "|   0   0 |\n",
      "|   4   4 |\n",
      "|   0   4 |\n",
      "------------------\n"
     ]
    }
   ],
   "source": [
    "from tkinter import messagebox\n",
    "\n",
    "def createspmatrix():\n",
    "    mat={}\n",
    "    numbar=int(input(\"jumlah baris: \"))\n",
    "    numkol=int(input(\"jumlah kolom: \"))\n",
    "    numdat=int(input(\"jumla elemen: \"))\n",
    "    for i in range(numdat):\n",
    "        bar = int(input(\"baris ke: ?\"))\n",
    "        kol = int(input(\"kolom ke: ?\"))\n",
    "        if bar >= numbar:\n",
    "            messagebox.showerror(\"ERROR\",\"masukkan baris dengan benar bro\")\n",
    "        elif kol >= numkol:\n",
    "            messagebox.showerror(\"ERROR\",\"masukkan kolom dengan benar bro\")\n",
    "        else:\n",
    "            data = int(input(\"data[\" + str(bar) + \",\" + str(kol) + \"]=\"))\n",
    "            mat[bar, kol] = data\n",
    "    return mat,numbar,numkol\n",
    "\n",
    "def addspmatrix(mat1,mat2,bar,kol):\n",
    "    jumlah={}\n",
    "    for p in range(bar):\n",
    "        for q in range(kol):\n",
    "            temp=mat1.get((p,q),0) + mat2.get((p,q),0)\n",
    "            jumlah[p, q]=temp\n",
    "    return jumlah\n",
    "\n",
    "def displayData(mat,numbar,numkol):\n",
    "    for r in range(numbar):\n",
    "        print(\"|\",end=\"\")\n",
    "        for s in range(numkol):\n",
    "            cek=mat.get((r,s),0)\n",
    "            data=str(cek)\n",
    "            print(\" \"*(4-len(data)) + data, end=\"\")\n",
    "        print(\" |\")\n",
    "    print(\"------------------\")\n",
    "\n",
    "\n",
    "#\"--------main program---------\"\n",
    "#create matriks\n",
    "(mat1,bar1,kol1)=createspmatrix()\n",
    "print(\"matriks1= \",mat1)\n",
    "print(\"------------------------\")\n",
    "(mat2,bar2,kol2)=createspmatrix()\n",
    "print(\"matriks2= \",mat2)\n",
    "print(\"---------------------- \")\n",
    "\n",
    "#add Matriks\n",
    "if (bar1==bar2) and (kol1==kol2):\n",
    "    matrixsum=addspmatrix(mat1,mat2,bar1,kol1)\n",
    "    displayData(mat1,bar1,kol1)\n",
    "    displayData(mat2,bar2,kol2)\n",
    "    displayData(matrixsum,bar1,kol1)\n",
    "else:\n",
    "    messagebox.showerror(\"ERROR\",\"ukuran matriks tidak sama\")"
   ]
  },
  {
   "cell_type": "code",
   "execution_count": 0,
   "metadata": {
    "collapsed": false
   },
   "outputs": [
   ],
   "source": [
   ]
  },
  {
   "cell_type": "code",
   "execution_count": 0,
   "metadata": {
    "collapsed": false
   },
   "outputs": [
   ],
   "source": [
   ]
  }
 ],
 "metadata": {
  "kernelspec": {
   "display_name": "Python 3 (old Anaconda 3)",
   "language": "python",
   "name": "anaconda3"
  }
 },
 "nbformat": 4,
 "nbformat_minor": 0
}