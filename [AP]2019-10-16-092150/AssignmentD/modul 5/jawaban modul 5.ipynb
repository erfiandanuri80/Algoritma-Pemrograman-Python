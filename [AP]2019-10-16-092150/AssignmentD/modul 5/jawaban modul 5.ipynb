{
 "cells": [
  {
   "cell_type": "code",
   "execution_count": 2,
   "metadata": {
    "cocalc": {
     "outputs": {
      "0": {
       "name": "input",
       "opts": {
        "password": false,
        "prompt": "masukkan angka="
       },
       "output_type": "stream",
       "value": "20"
      }
     }
    },
    "collapsed": false
   },
   "outputs": [
    {
     "name": "stdout",
     "output_type": "stream",
     "text": "masukkan angka= 20"
    },
    {
     "name": "stdout",
     "output_type": "stream",
     "text": [
      "faktor bilangan= \n",
      "[1, 2, 4, 5, 10, 20]\n"
     ]
    },
    {
     "data": {
      "text/plain": [
       "[1, 2, 4, 5, 10, 20]"
      ]
     },
     "execution_count": 2,
     "metadata": {
     },
     "output_type": "execute_result"
    }
   ],
   "source": [
    "def create_faktor(angka):\n",
    "    faktor=[]\n",
    "    for i in range(1,angka+1):\n",
    "        if angka%i == 0:\n",
    "            faktor.append(i)\n",
    "    print(faktor)\n",
    "    return faktor\n",
    "\n",
    "angka=int(input(\"masukkan angka=\"))\n",
    "print(\"faktor bilangan= \",)\n",
    "create_faktor(angka)"
   ]
  },
  {
   "cell_type": "code",
   "execution_count": 4,
   "metadata": {
    "cocalc": {
     "outputs": {
      "0": {
       "name": "input",
       "opts": {
        "password": false,
        "prompt": "banyak bilangan: "
       },
       "output_type": "stream",
       "value": "4"
      },
      "1": {
       "name": "input",
       "opts": {
        "password": false,
        "prompt": "masukkan bilangan ke-0: "
       },
       "output_type": "stream",
       "value": "2"
      },
      "2": {
       "name": "input",
       "opts": {
        "password": false,
        "prompt": "masukkan bilangan ke-1: "
       },
       "output_type": "stream",
       "value": "8"
      },
      "3": {
       "name": "input",
       "opts": {
        "password": false,
        "prompt": "masukkan bilangan ke-2: "
       },
       "output_type": "stream",
       "value": "7"
      },
      "4": {
       "name": "input",
       "opts": {
        "password": false,
        "prompt": "masukkan bilangan ke-3: "
       },
       "output_type": "stream",
       "value": "5"
      }
     }
    },
    "collapsed": false
   },
   "outputs": [
    {
     "name": "stdout",
     "output_type": "stream",
     "text": "banyak bilangan:  4"
    },
    {
     "name": "stdout",
     "output_type": "stream",
     "text": "masukkan bilangan ke-0:  2"
    },
    {
     "name": "stdout",
     "output_type": "stream",
     "text": "masukkan bilangan ke-1:  8"
    },
    {
     "name": "stdout",
     "output_type": "stream",
     "text": "masukkan bilangan ke-2:  7"
    },
    {
     "name": "stdout",
     "output_type": "stream",
     "text": "masukkan bilangan ke-3:  5"
    },
    {
     "name": "stdout",
     "output_type": "stream",
     "text": [
      "bilangan [2, 8, 7, 5]\n",
      "genap= [2, 8]\n",
      "ganjil= [7, 5]\n",
      "prima= [2, 8, 7, 5]\n"
     ]
    }
   ],
   "source": [
    "def createlist(elemen):\n",
    "    bilangan = []\n",
    "    y = 0\n",
    "    for h in range(elemen):\n",
    "        bilangan.append(int(input(\"masukkan bilangan ke-{}: \".format(y))))\n",
    "        y = y + 1\n",
    "    return bilangan\n",
    "\n",
    "\n",
    "def isGenap(bil):\n",
    "    return bil%2==0\n",
    "\n",
    "def isPrime(bil):\n",
    "    prima=[]\n",
    "    for j in nilai:\n",
    "        n = 0\n",
    "        for k in range(1,j+1):\n",
    "            if j % k == 0:\n",
    "                n = n + 1\n",
    "        if n == 2:\n",
    "            if not j in prima:\n",
    "                prima.append(j)\n",
    "        return prima\n",
    "\n",
    "elemen = int(input(\"banyak bilangan: \"))\n",
    "nilai=createlist(elemen)\n",
    "genap=[]\n",
    "ganjil=[]\n",
    "prima=[]\n",
    "\n",
    "for i in range(len(nilai)):\n",
    "    if (isGenap(nilai[i])):\n",
    "        if not ((nilai[i]) in genap):\n",
    "            genap.append(nilai[i])\n",
    "\n",
    "for i in range(len(nilai)):\n",
    "    if (not isGenap(nilai[i])):\n",
    "        if not ((nilai[i]) in ganjil):\n",
    "            ganjil.append(nilai[i])\n",
    "\n",
    "for i in range(len(nilai)):\n",
    "    if (isPrime(nilai[i])):\n",
    "        if not ((nilai[i]) in prima):\n",
    "            prima.append(nilai[i])\n",
    "\n",
    "print(\"bilangan\", nilai)\n",
    "print(\"genap=\",genap)\n",
    "print(\"ganjil=\",ganjil)\n",
    "print(\"prima=\",prima)\n"
   ]
  },
  {
   "cell_type": "markdown",
   "metadata": {
    "collapsed": false
   },
   "source": [
    "## "
   ]
  }
 ],
 "metadata": {
  "kernelspec": {
   "display_name": "Python 3 (Anaconda 5)",
   "language": "python",
   "name": "anaconda5"
  },
  "language_info": {
   "codemirror_mode": {
    "name": "ipython",
    "version": 3
   },
   "file_extension": ".py",
   "mimetype": "text/x-python",
   "name": "python",
   "nbconvert_exporter": "python",
   "pygments_lexer": "ipython3",
   "version": "3.6.5"
  }
 },
 "nbformat": 4,
 "nbformat_minor": 0
}