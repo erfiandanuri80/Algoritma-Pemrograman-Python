{
 "cells": [
  {
   "cell_type": "code",
   "execution_count": 5,
   "metadata": {
    "cocalc": {
     "outputs": {
      "0": {
       "name": "input",
       "opts": {
        "password": false,
        "prompt": "banyak bilangan: "
       },
       "output_type": "stream",
       "value": "10"
      },
      "1": {
       "name": "input",
       "opts": {
        "password": false,
        "prompt": "masukkan bilangan ke-0: "
       },
       "output_type": "stream",
       "value": "4"
      },
      "10": {
       "name": "input",
       "opts": {
        "password": false,
        "prompt": "masukkan bilangan ke-9: "
       },
       "output_type": "stream",
       "value": "12"
      },
      "2": {
       "name": "input",
       "opts": {
        "password": false,
        "prompt": "masukkan bilangan ke-1: "
       },
       "output_type": "stream",
       "value": "9"
      },
      "3": {
       "name": "input",
       "opts": {
        "password": false,
        "prompt": "masukkan bilangan ke-2: "
       },
       "output_type": "stream",
       "value": "12"
      },
      "4": {
       "name": "input",
       "opts": {
        "password": false,
        "prompt": "masukkan bilangan ke-3: "
       },
       "output_type": "stream",
       "value": "3"
      },
      "5": {
       "name": "input",
       "opts": {
        "password": false,
        "prompt": "masukkan bilangan ke-4: "
       },
       "output_type": "stream",
       "value": "7"
      },
      "6": {
       "name": "input",
       "opts": {
        "password": false,
        "prompt": "masukkan bilangan ke-5: "
       },
       "output_type": "stream",
       "value": "9"
      },
      "7": {
       "name": "input",
       "opts": {
        "password": false,
        "prompt": "masukkan bilangan ke-6: "
       },
       "output_type": "stream",
       "value": "3"
      },
      "8": {
       "name": "input",
       "opts": {
        "password": false,
        "prompt": "masukkan bilangan ke-7: "
       },
       "output_type": "stream",
       "value": "5"
      },
      "9": {
       "name": "input",
       "opts": {
        "password": false,
        "prompt": "masukkan bilangan ke-8: "
       },
       "output_type": "stream",
       "value": "11"
      }
     }
    },
    "collapsed": false
   },
   "outputs": [
    {
     "name": "stdout",
     "output_type": "stream",
     "text": "banyak bilangan:  10"
    },
    {
     "name": "stdout",
     "output_type": "stream",
     "text": "masukkan bilangan ke-0:  4"
    },
    {
     "name": "stdout",
     "output_type": "stream",
     "text": "masukkan bilangan ke-1:  9"
    },
    {
     "name": "stdout",
     "output_type": "stream",
     "text": "masukkan bilangan ke-2:  12"
    },
    {
     "name": "stdout",
     "output_type": "stream",
     "text": "masukkan bilangan ke-3:  3"
    },
    {
     "name": "stdout",
     "output_type": "stream",
     "text": "masukkan bilangan ke-4:  7"
    },
    {
     "name": "stdout",
     "output_type": "stream",
     "text": "masukkan bilangan ke-5:  9"
    },
    {
     "name": "stdout",
     "output_type": "stream",
     "text": "masukkan bilangan ke-6:  3"
    },
    {
     "name": "stdout",
     "output_type": "stream",
     "text": "masukkan bilangan ke-7:  5"
    },
    {
     "name": "stdout",
     "output_type": "stream",
     "text": "masukkan bilangan ke-8:  11"
    },
    {
     "name": "stdout",
     "output_type": "stream",
     "text": "masukkan bilangan ke-9:  12"
    },
    {
     "name": "stdout",
     "output_type": "stream",
     "text": [
      "bilangan [4, 9, 12, 3, 7, 9, 3, 5, 11, 12]\n",
      "genap= [4, 12, 12]\n",
      "ganjil= [9, 3, 7, 9, 3, 5, 11]\n",
      "prima= [3, 7, 3, 5, 11]\n"
     ]
    }
   ],
   "source": [
    "'''\n",
    "1. Buatlah program dengan ketentuan sebagai berikut :\n",
    "    a. Input : sejumlah bilangan (simpan dalam list)\n",
    "    b. Output : tiga buah list, yang berisi bilangan genap, bilangan ganjil, dan bilangan prima (serta tidak ada satupun bilangan yang sama (kembar) baik di dalam list ganjil, genap, ataupun prima.\n",
    "'''\n",
    "\n",
    "bilangan=[]\n",
    "genap=[]\n",
    "ganjil=[]\n",
    "prima=[]\n",
    "y=0\n",
    "elemen=int(input(\"banyak bilangan: \"))\n",
    "for h in range(elemen):\n",
    "    bil=int(input(\"masukkan bilangan ke-{}: \".format(y)))\n",
    "    y=y+1\n",
    "    bilangan.append(bil)\n",
    "\n",
    "for i in range(len(bilangan)):\n",
    "    if (bilangan[i])%2==0:\n",
    "        genap.append(bilangan[i])\n",
    "    elif (bilangan[i])%2!=0:\n",
    "        ganjil.append(bilangan[i])\n",
    "\n",
    "for j in bilangan:\n",
    "    n=0\n",
    "    for k in range(1,j+1):\n",
    "        if j%k==0:\n",
    "            n=n+1\n",
    "    if n==2:\n",
    "        prima.append(j)\n",
    "print(\"bilangan\", bilangan)\n",
    "print(\"genap=\",genap)\n",
    "print(\"ganjil=\",ganjil)\n",
    "print(\"prima=\",prima)"
   ]
  },
  {
   "cell_type": "code",
   "execution_count": 10,
   "metadata": {
    "cocalc": {
     "outputs": {
      "0": {
       "name": "input",
       "opts": {
        "password": false,
        "prompt": "masukkan jumlah elemen matriks1: "
       },
       "output_type": "stream",
       "value": "4"
      },
      "1": {
       "name": "input",
       "opts": {
        "password": false,
        "prompt": "masukkan bilangan ke-0:"
       },
       "output_type": "stream",
       "value": "2"
      },
      "2": {
       "name": "input",
       "opts": {
        "password": false,
        "prompt": "masukkan bilangan ke-1:"
       },
       "output_type": "stream",
       "value": "3"
      },
      "3": {
       "name": "input",
       "opts": {
        "password": false,
        "prompt": "masukkan bilangan ke-2:"
       },
       "output_type": "stream",
       "value": "4"
      },
      "4": {
       "name": "input",
       "opts": {
        "password": false,
        "prompt": "masukkan bilangan ke-3:"
       },
       "output_type": "stream",
       "value": "1"
      },
      "5": {
       "name": "input",
       "opts": {
        "password": false,
        "prompt": "masukkan jumlah elemen matriks 2: "
       },
       "output_type": "stream",
       "value": "2"
      },
      "6": {
       "name": "input",
       "opts": {
        "password": false,
        "prompt": "masukkan bilangan ke-0:"
       },
       "output_type": "stream",
       "value": "3"
      },
      "7": {
       "name": "input",
       "opts": {
        "password": false,
        "prompt": "masukkan bilangan ke-1:"
       },
       "output_type": "stream",
       "value": "4"
      }
     }
    },
    "collapsed": false
   },
   "outputs": [
    {
     "name": "stdout",
     "output_type": "stream",
     "text": "masukkan jumlah elemen matriks1:  4"
    },
    {
     "name": "stdout",
     "output_type": "stream",
     "text": "masukkan bilangan ke-0: 2"
    },
    {
     "name": "stdout",
     "output_type": "stream",
     "text": "masukkan bilangan ke-1: 3"
    },
    {
     "name": "stdout",
     "output_type": "stream",
     "text": "masukkan bilangan ke-2: 4"
    },
    {
     "name": "stdout",
     "output_type": "stream",
     "text": "masukkan bilangan ke-3: 1"
    },
    {
     "name": "stdout",
     "output_type": "stream",
     "text": "masukkan jumlah elemen matriks 2:  2"
    },
    {
     "name": "stdout",
     "output_type": "stream",
     "text": "masukkan bilangan ke-0: 3"
    },
    {
     "name": "stdout",
     "output_type": "stream",
     "text": "masukkan bilangan ke-1: 4"
    },
    {
     "name": "stdout",
     "output_type": "stream",
     "text": [
      "matriks1= [2, 3, 4, 1]\n",
      "matriks2= [3, 4]\n",
      "ukuran matriks tidak sama\n"
     ]
    }
   ],
   "source": [
    "'''\n",
    "2. Buat penjumlahan dua buah matriks berdimensi satu (jumlah baris sama dengan satu), dengan ketentuan:\n",
    "    a. Input : dua buah matriks yang akan diinputkan\n",
    "    b. Output : hasil penjumlahan, jika dua buah matriks memiliki jumlah kolom yang sama (jumlah elemen yang sama). Output berupa peringatan jika, jumlah kolom tidak sama\n",
    "'''\n",
    "\n",
    "matriks1=[]\n",
    "matriks2=[]\n",
    "jumlah=[]\n",
    "a=int(input(\"masukkan jumlah elemen matriks1: \"))\n",
    "c=0\n",
    "for x in range(a):\n",
    "    nilai1=int(input(\"masukkan bilangan ke-{}:\".format(c)))\n",
    "    c=c+1\n",
    "    matriks1.append(nilai1)\n",
    "b=int(input('masukkan jumlah elemen matriks 2: '))\n",
    "c=0\n",
    "for y in range(b):\n",
    "    nilai2=int(input(\"masukkan bilangan ke-{}:\".format(c)))\n",
    "    c=c+1\n",
    "    matriks2.append(nilai2)\n",
    "if len(matriks1)== len(matriks2):\n",
    "    for i in range(len(matriks1)):\n",
    "        hasil=matriks1[i] + matriks2[i]\n",
    "        jumlah.append(hasil)\n",
    "    print(\"matriks1=\", matriks1)\n",
    "    print(\"matriks2=\", matriks2)\n",
    "    print(\"matriks1 + matriks2 =\\n\",matriks1, '+', matriks2, '=', jumlah)\n",
    "else:\n",
    "    print(\"matriks1=\",matriks1)\n",
    "    print(\"matriks2=\",matriks2)\n",
    "    print(\"ukuran matriks tidak sama\")\n"
   ]
  }
 ],
 "metadata": {
  "kernelspec": {
   "display_name": "Python 3 (Anaconda 5)",
   "language": "python",
   "name": "anaconda5"
  },
  "language_info": {
   "codemirror_mode": {
    "name": "ipython",
    "version": 3
   },
   "file_extension": ".py",
   "mimetype": "text/x-python",
   "name": "python",
   "nbconvert_exporter": "python",
   "pygments_lexer": "ipython3",
   "version": "3.6.6"
  }
 },
 "nbformat": 4,
 "nbformat_minor": 0
}