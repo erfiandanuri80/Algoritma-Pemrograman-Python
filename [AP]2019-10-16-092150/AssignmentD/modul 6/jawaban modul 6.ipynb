{
 "cells": [
  {
   "cell_type": "code",
   "execution_count": 1,
   "metadata": {
    "cocalc": {
     "outputs": {
      "0": {
       "name": "input",
       "opts": {
        "password": false,
        "prompt": "masukkan suku awal= "
       },
       "output_type": "stream",
       "value": "2"
      },
      "1": {
       "name": "input",
       "opts": {
        "password": false,
        "prompt": "masukkan beda= "
       },
       "output_type": "stream",
       "value": "3"
      },
      "2": {
       "name": "input",
       "opts": {
        "password": false,
        "prompt": "masukkan banyak suku= "
       },
       "output_type": "stream",
       "value": "5"
      }
     }
    },
    "collapsed": false
   },
   "outputs": [
    {
     "name": "stdout",
     "output_type": "stream",
     "text": "masukkan suku awal=  2"
    },
    {
     "name": "stdout",
     "output_type": "stream",
     "text": "masukkan beda=  3"
    },
    {
     "name": "stdout",
     "output_type": "stream",
     "text": "masukkan banyak suku=  5"
    },
    {
     "name": "stdout",
     "output_type": "stream",
     "text": [
      "suku ke- 5 = 14\n"
     ]
    }
   ],
   "source": [
    "def buatderet(a,b,n):\n",
    "    if n==1:\n",
    "        deret=a\n",
    "    else:\n",
    "        deret=b + buatderet(a,b,n-1)\n",
    "    return deret\n",
    "a=int(input(\"masukkan suku awal= \"))\n",
    "b=int(input(\"masukkan beda= \"))\n",
    "n=int(input(\"masukkan banyak suku= \"))\n",
    "hasil=buatderet(a,b,n)\n",
    "print (\"suku ke-\",n,\"=\",hasil)\n"
   ]
  },
  {
   "cell_type": "code",
   "execution_count": 2,
   "metadata": {
    "cocalc": {
     "outputs": {
      "0": {
       "name": "input",
       "opts": {
        "password": false,
        "prompt": "masukkan angka= "
       },
       "output_type": "stream",
       "value": "3"
      },
      "1": {
       "name": "input",
       "opts": {
        "password": false,
        "prompt": "masukkan pangkat= "
       },
       "output_type": "stream",
       "value": "5"
      }
     }
    },
    "collapsed": false
   },
   "outputs": [
    {
     "name": "stdout",
     "output_type": "stream",
     "text": "masukkan angka=  3"
    },
    {
     "name": "stdout",
     "output_type": "stream",
     "text": "masukkan pangkat=  5"
    },
    {
     "name": "stdout",
     "output_type": "stream",
     "text": [
      "3 pangkat 5 = 243\n"
     ]
    }
   ],
   "source": [
    "def eksponensial(a,n):\n",
    "    if n==0:\n",
    "        eksponen=1\n",
    "    else:\n",
    "        eksponen=a * eksponensial(a,n-1)\n",
    "    return eksponen\n",
    "\n",
    "a=int(input(\"masukkan angka= \"))\n",
    "n=int(input(\"masukkan pangkat= \"))\n",
    "\n",
    "hasil=eksponensial(a,n)\n",
    "print(a,\"pangkat\",n,\"=\",hasil)"
   ]
  },
  {
   "cell_type": "code",
   "execution_count": 0,
   "metadata": {
    "collapsed": false
   },
   "outputs": [
   ],
   "source": [
   ]
  }
 ],
 "metadata": {
  "kernelspec": {
   "display_name": "Python 3 (Anaconda 5)",
   "language": "python",
   "name": "anaconda5"
  }
 },
 "nbformat": 4,
 "nbformat_minor": 0
}