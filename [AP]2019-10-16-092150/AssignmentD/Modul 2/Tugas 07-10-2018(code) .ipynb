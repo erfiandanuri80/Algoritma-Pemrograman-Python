{
 "cells": [
  {
   "cell_type": "markdown",
   "metadata": {
    "collapsed": false
   },
   "source": [
    "2. Buatlah code untuk menampilkan sejumlah deret aritmatika, dengan input berupa suku awal, beda, dan total deret aritmatika. Deret aritmatika yang ditampilkan adalah suku-suku, yang total nilainya tidak lebih dari total yang telah diinputkan sebelumnya!"
   ]
  },
  {
   "cell_type": "code",
   "execution_count": 1,
   "metadata": {
    "cocalc": {
     "outputs": {
      "0": {
       "name": "input",
       "opts": {
        "password": false,
        "prompt": "suku_awal: "
       },
       "output_type": "stream",
       "value": "2"
      },
      "1": {
       "name": "input",
       "opts": {
        "password": false,
        "prompt": "beda: "
       },
       "output_type": "stream",
       "value": "1"
      },
      "2": {
       "name": "input",
       "opts": {
        "password": false,
        "prompt": "jumlah: "
       },
       "output_type": "stream",
       "value": "20"
      }
     }
    },
    "collapsed": false
   },
   "outputs": [
    {
     "name": "stdout",
     "output_type": "stream",
     "text": "suku_awal:  2"
    },
    {
     "name": "stdout",
     "output_type": "stream",
     "text": "beda:  1"
    },
    {
     "name": "stdout",
     "output_type": "stream",
     "text": "jumlah:  20"
    },
    {
     "name": "stdout",
     "output_type": "stream",
     "text": [
      "suku ke- 1 = 2 jumlah:  2\n",
      "suku ke- 2 = 3 jumlah:  5\n",
      "suku ke- 3 = 4 jumlah:  9\n",
      "suku ke- 4 = 5 jumlah:  14\n",
      "suku ke- 5 = 6 jumlah:  20\n"
     ]
    }
   ],
   "source": [
    "i=1\n",
    "x=0\n",
    "suku_awal=int(input(\"suku_awal: \"))\n",
    "beda=int(input(\"beda: \"))\n",
    "jumlah=int(input(\"jumlah: \"))\n",
    "while x<jumlah:\n",
    "    x=x+suku_awal\n",
    "    if x<=jumlah:\n",
    "        print('suku ke-',i,'=',suku_awal, 'jumlah: ',x)\n",
    "        i=i+1\n",
    "        suku_awal=suku_awal+beda"
   ]
  },
  {
   "cell_type": "markdown",
   "metadata": {
    "collapsed": false
   },
   "source": [
    "4. Buatlah code untuk menentukan apakah suatu bilangan adalah bilangan prima atau bukan!"
   ]
  },
  {
   "cell_type": "code",
   "execution_count": 1,
   "metadata": {
    "cocalc": {
     "outputs": {
      "0": {
       "name": "input",
       "opts": {
        "password": false,
        "prompt": "tentukan bilangan: "
       },
       "output_type": "stream",
       "value": "31"
      }
     }
    },
    "collapsed": false
   },
   "outputs": [
    {
     "name": "stdout",
     "output_type": "stream",
     "text": "tentukan bilangan:  31"
    },
    {
     "name": "stdout",
     "output_type": "stream",
     "text": [
      "(31, 'adalah bilangan prima')\n"
     ]
    }
   ],
   "source": [
    "y=0\n",
    "bil=int(input(\"tentukan bilangan: \"))\n",
    "for i in range(1,bil+1):\n",
    "    if bil%i==0:\n",
    "        y=y+1\n",
    "if y==2:\n",
    "    print(bil,\"adalah bilangan prima\")\n",
    "elif y>2 or y<2:\n",
    "    print(bil,\"adalah bukan bilangan prima\")\n"
   ]
  },
  {
   "cell_type": "markdown",
   "metadata": {
    "collapsed": false
   },
   "source": [
    "# "
   ]
  }
 ],
 "metadata": {
  "kernelspec": {
   "display_name": "Python 3 (Anaconda 5)",
   "env": {
    "LD_LIBRARY_PATH": "/ext/anaconda5/lib",
    "PROJ_LIB": "/ext/anaconda-2019.03/share/proj",
    "PYTHONHOME": "/ext/anaconda5/lib/python3.5",
    "PYTHONPATH": "/ext/anaconda5/lib/python3.5:/ext/anaconda5/lib/python3.5/site-packages"
   },
   "language": "python",
   "metadata": {
    "cocalc": {
     "description": "Python/R distribution for data science",
     "priority": -1,
     "url": "https://www.anaconda.com/distribution/"
    }
   },
   "name": "anaconda5"
  },
  "language_info": {
   "codemirror_mode": {
    "name": "ipython",
    "version": 3
   },
   "file_extension": ".py",
   "mimetype": "text/x-python",
   "name": "python",
   "nbconvert_exporter": "python",
   "pygments_lexer": "ipython3",
   "version": "3.6.7"
  }
 },
 "nbformat": 4,
 "nbformat_minor": 0
}