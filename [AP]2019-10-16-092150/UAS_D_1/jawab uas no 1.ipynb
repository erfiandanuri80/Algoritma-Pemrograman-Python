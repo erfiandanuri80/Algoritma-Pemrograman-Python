{
 "cells": [
  {
   "cell_type": "code",
   "execution_count": 2,
   "metadata": {
    "cocalc": {
     "outputs": {
      "0": {
       "name": "input",
       "opts": {
        "password": false,
        "prompt": "masukkan= "
       },
       "output_type": "stream"
      }
     }
    },
    "collapsed": false
   },
   "outputs": [
    {
     "name": "stdout",
     "output_type": "stream",
     "text": "masukkan=  "
    }
   ],
   "source": [
    "def mean(x,w):\n",
    "    result = 0\n",
    "    if len(x)== len(w):\n",
    "        for a in range(len(x)):\n",
    "            result = result + x[a] * w[a]\n",
    "        return result\n",
    "    \n",
    "def createlist(num):\n",
    "    temp = []\n",
    "    for y in range(num):\n",
    "        inp = int(input(\"input= \"))\n",
    "        temp.append(inp)\n",
    "    return temp\n",
    "    \n",
    "\n",
    "#-------main--------#\n",
    "n=int(input(\"masukkan= \"))\n",
    "print(\"list x\")\n",
    "x=createlist(n)\n",
    "print(\"list w\")\n",
    "w=createlist(n)\n",
    "print(mean(x,w))"
   ]
  },
  {
   "cell_type": "code",
   "execution_count": 0,
   "metadata": {
    "collapsed": false
   },
   "outputs": [
   ],
   "source": [
   ]
  }
 ],
 "metadata": {
  "kernelspec": {
   "display_name": "Python 3 (old Anaconda 3)",
   "language": "python",
   "name": "anaconda3"
  }
 },
 "nbformat": 4,
 "nbformat_minor": 0
}