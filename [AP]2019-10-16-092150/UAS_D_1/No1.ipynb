{
 "cells": [
  {
   "cell_type": "markdown",
   "metadata": {
    "collapsed": false
   },
   "source": [
    "Buatlah suatu fungsi dengan return value yaitu nilai $y$, dan argument yaitu **list** $x$ dan **list** $w$, untuk persamaan matematika berikut ini :\n",
    "\\begin{eqnarray}\n",
    "y=\\sum_{i=1}^{n}(x_i w_i)\n",
    "\\end{eqnarray}\n",
    "dimana $n$ adalah jumlah data yang terdapat pada list $x$ (sama dengan jumlah data pada list $w$)\n",
    "\n",
    "\n",
    "Buat juga main code untuk memanggil fungsi yang telah dibuat dan menampilkan hasilnya <br>\n",
    "\n",
    "**Waktu = 15 menit**<br>\n",
    "**point:**\n",
    "1. **Error = 0**\n",
    "2. **Tidak error, tetapi output tidak sesuai = 5**\n",
    "3. **Tidak errof, dan sesuai =20**\n",
    "4. **Curang = -5**"
   ]
  },
  {
   "cell_type": "code",
   "execution_count": 12,
   "metadata": {
    "cocalc": {
     "outputs": {
      "0": {
       "name": "input",
       "opts": {
        "password": false,
        "prompt": "masukkan= "
       },
       "output_type": "stream",
       "value": "4"
      },
      "10": {
       "name": "input",
       "opts": {
        "password": false,
        "prompt": "input= "
       },
       "output_type": "stream",
       "value": "1"
      },
      "2": {
       "name": "input",
       "opts": {
        "password": false,
        "prompt": "input= "
       },
       "output_type": "stream",
       "value": "1"
      },
      "3": {
       "name": "input",
       "opts": {
        "password": false,
        "prompt": "input= "
       },
       "output_type": "stream",
       "value": "2"
      },
      "4": {
       "name": "input",
       "opts": {
        "password": false,
        "prompt": "input= "
       },
       "output_type": "stream",
       "value": "3"
      },
      "5": {
       "name": "input",
       "opts": {
        "password": false,
        "prompt": "input= "
       },
       "output_type": "stream",
       "value": "4"
      },
      "7": {
       "name": "input",
       "opts": {
        "password": false,
        "prompt": "input= "
       },
       "output_type": "stream",
       "value": "4"
      },
      "8": {
       "name": "input",
       "opts": {
        "password": false,
        "prompt": "input= "
       },
       "output_type": "stream",
       "value": "3"
      },
      "9": {
       "name": "input",
       "opts": {
        "password": false,
        "prompt": "input= "
       },
       "output_type": "stream",
       "value": "2"
      }
     }
    },
    "collapsed": false
   },
   "outputs": [
    {
     "name": "stdout",
     "output_type": "stream",
     "text": "masukkan=  4"
    },
    {
     "name": "stdout",
     "output_type": "stream",
     "text": [
      "list x\n"
     ]
    },
    {
     "name": "stdout",
     "output_type": "stream",
     "text": "input=  1"
    },
    {
     "name": "stdout",
     "output_type": "stream",
     "text": "input=  2"
    },
    {
     "name": "stdout",
     "output_type": "stream",
     "text": "input=  3"
    },
    {
     "name": "stdout",
     "output_type": "stream",
     "text": "input=  4"
    },
    {
     "name": "stdout",
     "output_type": "stream",
     "text": [
      "list w\n"
     ]
    },
    {
     "name": "stdout",
     "output_type": "stream",
     "text": "input=  4"
    },
    {
     "name": "stdout",
     "output_type": "stream",
     "text": "input=  3"
    },
    {
     "name": "stdout",
     "output_type": "stream",
     "text": "input=  2"
    },
    {
     "name": "stdout",
     "output_type": "stream",
     "text": "input=  1"
    },
    {
     "name": "stdout",
     "output_type": "stream",
     "text": [
      "20\n"
     ]
    }
   ],
   "source": [
    "def mean(x,w):\n",
    "    result = 0\n",
    "    if len(x)== len(w):\n",
    "        for a in range(len(x)):\n",
    "            result = result + x[a] * w[a]\n",
    "        return result\n",
    "    \n",
    "def createlist(num):\n",
    "    temp = []\n",
    "    for y in range(num):\n",
    "        inp = int(input(\"input= \"))\n",
    "        temp.append(inp)\n",
    "    return temp\n",
    "    \n",
    "\n",
    "#-------main--------#\n",
    "n=int(input(\"masukkan= \"))\n",
    "print(\"list x\")\n",
    "x=createlist(n)\n",
    "print(\"list w\")\n",
    "w=createlist(n)\n",
    "print(mean(x,w))"
   ]
  },
  {
   "cell_type": "markdown",
   "metadata": {
    "collapsed": false
   },
   "source": [
    "#### "
   ]
  },
  {
   "cell_type": "code",
   "execution_count": 0,
   "metadata": {
    "collapsed": false
   },
   "outputs": [
   ],
   "source": [
   ]
  }
 ],
 "metadata": {
  "kernelspec": {
   "display_name": "SageMath (stable)",
   "language": "sagemath",
   "name": "sagemath"
  }
 },
 "nbformat": 4,
 "nbformat_minor": 0
}