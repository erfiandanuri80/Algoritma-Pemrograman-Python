{
 "cells": [
  {
   "cell_type": "markdown",
   "metadata": {
    "collapsed": false
   },
   "source": [
    "# No 2\n",
    "\n",
    "Buatlah suatu fungsi dengan return value yaitu nilai $f(x)$, dan argument yaitu $x$, untuk persamaan matematika berikut ini :\n",
    "\\begin{eqnarray}\n",
    "f(x)=\\big(f(x-1)+x\\big)\\times\\big(f(x-2)-x\\big)\n",
    "\\end{eqnarray}\n",
    "dengan ketentuan :\n",
    "```\n",
    "jika x=0, maka f(x)=1\n",
    "dan \n",
    "jika x=1, maka f(x)=2\n",
    "```\n",
    "Buat juga main code untuk memanggil fungsi yang telah dibuat dan menampilkan hasilnya <br>\n",
    "\n",
    "**Waktu = 15 menit**<br>\n",
    "**point:**\n",
    "1. **Error = 0**\n",
    "2. **Tidak error, tetapi output tidak sesuai = 5**\n",
    "3. **Tidak errof, dan sesuai =20**\n",
    "4. **Curang = -5**"
   ]
  },
  {
   "cell_type": "code",
   "execution_count": 4,
   "metadata": {
    "cocalc": {
     "outputs": {
      "0": {
       "name": "input",
       "opts": {
        "password": false,
        "prompt": "input= "
       },
       "output_type": "stream",
       "value": "2"
      }
     }
    },
    "collapsed": false
   },
   "outputs": [
    {
     "name": "stdout",
     "output_type": "stream",
     "text": "input=  2"
    },
    {
     "name": "stdout",
     "output_type": "stream",
     "text": [
      "-4\n"
     ]
    }
   ],
   "source": [
    "def f(x):\n",
    "    if x==0:\n",
    "        return 1\n",
    "    elif x==1:\n",
    "        return 2\n",
    "    else:\n",
    "        return (f(x-1)+x)*(f(x-2)-x)\n",
    "    \n",
    "#-----main----#\n",
    "x=int(input(\"input= \"))\n",
    "display=f(x)\n",
    "print(display)\n",
    "    "
   ]
  },
  {
   "cell_type": "code",
   "execution_count": 0,
   "metadata": {
    "collapsed": false
   },
   "outputs": [
   ],
   "source": [
   ]
  }
 ],
 "metadata": {
  "kernelspec": {
   "display_name": "SageMath (stable)",
   "language": "sagemath",
   "name": "sagemath"
  },
  "language_info": {
   "codemirror_mode": {
    "name": "ipython",
    "version": 2
   },
   "file_extension": ".py",
   "mimetype": "text/x-python",
   "name": "python",
   "nbconvert_exporter": "python",
   "pygments_lexer": "ipython2",
   "version": "2.7.15"
  }
 },
 "nbformat": 4,
 "nbformat_minor": 0
}