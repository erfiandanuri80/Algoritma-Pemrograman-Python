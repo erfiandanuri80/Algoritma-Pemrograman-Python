{
 "cells": [
  {
   "cell_type": "code",
   "execution_count": 0,
   "metadata": {
    "collapsed": false
   },
   "outputs": [
   ],
   "source": [
    "def f(x):\n",
    "    if x==0:\n",
    "        return 1\n",
    "    elif x==1:\n",
    "        return 2\n",
    "    else:\n",
    "        return (f(x-1)+x)*(f(x-2)-x)\n",
    "    \n",
    "#-----main----#\n",
    "x=int(input(\"input= \"))\n",
    "display=f(x)\n",
    "print(display)"
   ]
  }
 ],
 "metadata": {
  "kernelspec": {
   "display_name": "Python 3 (old Anaconda 3)",
   "language": "python",
   "name": "anaconda3"
  }
 },
 "nbformat": 4,
 "nbformat_minor": 0
}